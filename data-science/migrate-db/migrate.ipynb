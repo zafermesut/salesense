{
 "cells": [
  {
   "cell_type": "code",
   "execution_count": 4,
   "metadata": {},
   "outputs": [],
   "source": [
    "#pip install pandas sqlalchemy\n"
   ]
  },
  {
   "cell_type": "code",
   "execution_count": 5,
   "metadata": {},
   "outputs": [],
   "source": [
    "import pandas as pd\n",
    "import sqlite3"
   ]
  },
  {
   "cell_type": "code",
   "execution_count": null,
   "metadata": {},
   "outputs": [],
   "source": []
  },
  {
   "cell_type": "code",
   "execution_count": null,
   "metadata": {},
   "outputs": [
    {
     "data": {
      "text/plain": [
       "392692"
      ]
     },
     "execution_count": 6,
     "metadata": {},
     "output_type": "execute_result"
    }
   ],
   "source": [
    "import pandas as pd\n",
    "from sqlalchemy import create_engine\n",
    "\n",
    "sqlite_file_path = '/Users/zafer/Documents/GitHub/salesense/database/database.sqlite' \n",
    "engine = create_engine(f'sqlite:///{sqlite_file_path}')\n",
    "\n",
    "df = pd.read_csv('../../data/cleaned_data.csv')  \n",
    "\n",
    "df_renamed = df.rename(columns={\n",
    "    'InvoiceNo': 'id',\n",
    "    'StockCode': 'stock_code',\n",
    "    'Description': 'name',\n",
    "    'Quantity': 'quantity',\n",
    "    'InvoiceDate': 'invoice_date',\n",
    "    'UnitPrice': 'unit_price',\n",
    "    'CustomerID': 'customer_id',\n",
    "    'Country': 'country',\n",
    "    'Year': 'year',\n",
    "    'Month': 'month',\n",
    "    'Day': 'day',\n",
    "    'Hour': 'hour',\n",
    "    'TotalPrice': 'total_price'\n",
    "})\n",
    "\n",
    "df_renamed.drop(columns=['id'], inplace=True)\n",
    "\n",
    "\n",
    "df_renamed['invoice_date'] = pd.to_datetime(df_renamed['invoice_date'])\n",
    "\n",
    "\n",
    "df_renamed.to_sql('sales', con=engine, if_exists='append', index=False)\n"
   ]
  }
 ],
 "metadata": {
  "kernelspec": {
   "display_name": "base",
   "language": "python",
   "name": "python3"
  },
  "language_info": {
   "codemirror_mode": {
    "name": "ipython",
    "version": 3
   },
   "file_extension": ".py",
   "mimetype": "text/x-python",
   "name": "python",
   "nbconvert_exporter": "python",
   "pygments_lexer": "ipython3",
   "version": "3.11.7"
  }
 },
 "nbformat": 4,
 "nbformat_minor": 2
}
