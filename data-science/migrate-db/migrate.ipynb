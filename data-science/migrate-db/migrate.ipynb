{
 "cells": [
  {
   "cell_type": "code",
   "execution_count": 10,
   "metadata": {},
   "outputs": [],
   "source": [
    "#pip install pandas sqlalchemy\n"
   ]
  },
  {
   "cell_type": "code",
   "execution_count": 11,
   "metadata": {},
   "outputs": [],
   "source": [
    "import sqlite3\n",
    "import pandas as pd\n",
    "from sqlalchemy import create_engine\n"
   ]
  },
  {
   "cell_type": "code",
   "execution_count": 12,
   "metadata": {},
   "outputs": [],
   "source": [
    "# import sqlite3\n",
    "# import pandas as pd\n",
    "# from sqlalchemy import create_engine\n",
    "\n",
    "# sqlite_file_path = '/Users/zafer/Documents/GitHub/salesense/database/database.sqlite' \n",
    "# engine = create_engine(f'sqlite:///{sqlite_file_path}')\n",
    "\n",
    "# df = pd.read_csv('../../data/cleaned_data.csv')  \n",
    "\n",
    "# df_renamed = df.rename(columns={\n",
    "#     'InvoiceNo': 'id',\n",
    "#     'StockCode': 'stock_code',\n",
    "#     'Description': 'name',\n",
    "#     'Quantity': 'quantity',\n",
    "#     'InvoiceDate': 'invoice_date',\n",
    "#     'UnitPrice': 'unit_price',\n",
    "#     'CustomerID': 'customer_id',\n",
    "#     'Country': 'country',\n",
    "#     'Year': 'year',\n",
    "#     'Month': 'month',\n",
    "#     'Day': 'day',\n",
    "#     'Hour': 'hour',\n",
    "#     'TotalPrice': 'total_price'\n",
    "# })\n",
    "\n",
    "# df_renamed.drop(columns=['id'], inplace=True)\n",
    "\n",
    "\n",
    "# df_renamed['invoice_date'] = pd.to_datetime(df_renamed['invoice_date'])\n",
    "\n",
    "\n",
    "# df_renamed.to_sql('sales', con=engine, if_exists='append', index=False)\n"
   ]
  },
  {
   "cell_type": "code",
   "execution_count": 13,
   "metadata": {},
   "outputs": [
    {
     "name": "stdout",
     "output_type": "stream",
     "text": [
      "Sales tablosu oluşturuldu ve veriler eklendi.\n",
      "Countries tablosu oluşturuldu ve veriler eklendi.\n",
      "Products tablosu oluşturuldu ve veriler eklendi.\n",
      "Customers tablosu oluşturuldu ve veriler eklendi.\n"
     ]
    }
   ],
   "source": [
    "\n",
    "sqlite_file_path = '/Users/zafer/Documents/GitHub/salesense/database/database.sqlite' \n",
    "engine = create_engine(f'sqlite:///{sqlite_file_path}')\n",
    "\n",
    "df = pd.read_csv('../../data/db_data.csv')  \n",
    "\n",
    "df_renamed = df.rename(columns={\n",
    "    'InvoiceNo': 'id',\n",
    "    'StockCode': 'stock_code',\n",
    "    'Description': 'name',\n",
    "    'Quantity': 'quantity',\n",
    "    'InvoiceDate': 'invoice_date',\n",
    "    'UnitPrice': 'unit_price',\n",
    "    'CustomerID': 'customer_id',\n",
    "    'Country': 'country',\n",
    "    'Year': 'year',\n",
    "    'Month': 'month',\n",
    "    'Day': 'day',\n",
    "    'Hour': 'hour',\n",
    "    'TotalPrice': 'total_price',\n",
    "    'CustomerEmail': 'customer_email',\n",
    "    'CustomerName': 'customer_name'\n",
    "})\n",
    "\n",
    "df_renamed.drop(columns=['id'], inplace=True)\n",
    "\n",
    "df_renamed['invoice_date'] = pd.to_datetime(df_renamed['invoice_date'])\n",
    "\n",
    "df_renamed.to_sql('sales', con=engine, if_exists='replace', index=False)\n",
    "print(\"Sales tablosu oluşturuldu ve veriler eklendi.\")\n",
    "\n",
    "df_countries = df_renamed[['country']].drop_duplicates().reset_index(drop=True)\n",
    "\n",
    "df_countries.to_sql('countries', con=engine, if_exists='replace', index=False)\n",
    "print(\"Countries tablosu oluşturuldu ve veriler eklendi.\")\n",
    "\n",
    "df_products = df_renamed[['stock_code', 'name']].drop_duplicates().reset_index(drop=True)\n",
    "\n",
    "df_products.to_sql('products', con=engine, if_exists='replace', index=False)\n",
    "print(\"Products tablosu oluşturuldu ve veriler eklendi.\")\n",
    "\n",
    "df_customers = pd.read_csv('../../data/customers.csv')\n",
    "df_customers.to_sql('customers', con=engine, if_exists='replace', index=False)\n",
    "print(\"Customers tablosu oluşturuldu ve veriler eklendi.\")\n"
   ]
  },
  {
   "cell_type": "code",
   "execution_count": null,
   "metadata": {},
   "outputs": [],
   "source": []
  }
 ],
 "metadata": {
  "kernelspec": {
   "display_name": "base",
   "language": "python",
   "name": "python3"
  },
  "language_info": {
   "codemirror_mode": {
    "name": "ipython",
    "version": 3
   },
   "file_extension": ".py",
   "mimetype": "text/x-python",
   "name": "python",
   "nbconvert_exporter": "python",
   "pygments_lexer": "ipython3",
   "version": "3.11.7"
  }
 },
 "nbformat": 4,
 "nbformat_minor": 2
}
