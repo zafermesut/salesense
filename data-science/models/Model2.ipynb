{
 "cells": [
  {
   "cell_type": "code",
   "execution_count": 2,
   "metadata": {},
   "outputs": [],
   "source": [
    "import pandas as pd\n",
    "import numpy as np\n",
    "import matplotlib.pyplot as plt\n",
    "from statsmodels.tsa.stattools import adfuller\n",
    "from statsmodels.graphics.tsaplots import plot_acf, plot_pacf\n",
    "from statsmodels.tsa.arima.model import ARIMA"
   ]
  },
  {
   "cell_type": "code",
   "execution_count": 7,
   "metadata": {},
   "outputs": [
    {
     "data": {
      "text/html": [
       "<div>\n",
       "<style scoped>\n",
       "    .dataframe tbody tr th:only-of-type {\n",
       "        vertical-align: middle;\n",
       "    }\n",
       "\n",
       "    .dataframe tbody tr th {\n",
       "        vertical-align: top;\n",
       "    }\n",
       "\n",
       "    .dataframe thead th {\n",
       "        text-align: right;\n",
       "    }\n",
       "</style>\n",
       "<table border=\"1\" class=\"dataframe\">\n",
       "  <thead>\n",
       "    <tr style=\"text-align: right;\">\n",
       "      <th></th>\n",
       "      <th>Description</th>\n",
       "      <th>YearMonth</th>\n",
       "      <th>Quantity</th>\n",
       "    </tr>\n",
       "  </thead>\n",
       "  <tbody>\n",
       "    <tr>\n",
       "      <th>0</th>\n",
       "      <td>4 PURPLE FLOCK DINNER CANDLES</td>\n",
       "      <td>2022-12</td>\n",
       "      <td>14</td>\n",
       "    </tr>\n",
       "    <tr>\n",
       "      <th>1</th>\n",
       "      <td>4 PURPLE FLOCK DINNER CANDLES</td>\n",
       "      <td>2023-01</td>\n",
       "      <td>1</td>\n",
       "    </tr>\n",
       "    <tr>\n",
       "      <th>2</th>\n",
       "      <td>4 PURPLE FLOCK DINNER CANDLES</td>\n",
       "      <td>2023-02</td>\n",
       "      <td>1</td>\n",
       "    </tr>\n",
       "    <tr>\n",
       "      <th>3</th>\n",
       "      <td>4 PURPLE FLOCK DINNER CANDLES</td>\n",
       "      <td>2023-04</td>\n",
       "      <td>7</td>\n",
       "    </tr>\n",
       "    <tr>\n",
       "      <th>4</th>\n",
       "      <td>4 PURPLE FLOCK DINNER CANDLES</td>\n",
       "      <td>2023-05</td>\n",
       "      <td>1</td>\n",
       "    </tr>\n",
       "  </tbody>\n",
       "</table>\n",
       "</div>"
      ],
      "text/plain": [
       "                      Description YearMonth  Quantity\n",
       "0   4 PURPLE FLOCK DINNER CANDLES   2022-12        14\n",
       "1   4 PURPLE FLOCK DINNER CANDLES   2023-01         1\n",
       "2   4 PURPLE FLOCK DINNER CANDLES   2023-02         1\n",
       "3   4 PURPLE FLOCK DINNER CANDLES   2023-04         7\n",
       "4   4 PURPLE FLOCK DINNER CANDLES   2023-05         1"
      ]
     },
     "execution_count": 7,
     "metadata": {},
     "output_type": "execute_result"
    }
   ],
   "source": [
    "\n",
    "df = pd.read_csv(\"../../data/cleaned_data.csv\")\n",
    "df['InvoiceDate'] = pd.to_datetime(df['InvoiceDate'])\n",
    "# InvoiceDate'i datetime formatına çeviriyoruz\n",
    "df['InvoiceDate'] = pd.to_datetime(df['InvoiceDate'])\n",
    "\n",
    "# Ay bazında bir sütun oluşturuyoruz\n",
    "df['YearMonth'] = df['InvoiceDate'].dt.to_period('M')\n",
    "\n",
    "# Her ürün için ay ay toplam satış miktarını hesaplıyoruz\n",
    "monthly_sales = df.groupby(['Description', 'YearMonth'])['Quantity'].sum().reset_index()\n",
    "\n",
    "# Period objesini stringe çevir (Prophet kullanacaksan datetime gerekiyor)\n",
    "monthly_sales['YearMonth'] = monthly_sales['YearMonth'].astype(str)\n",
    "\n",
    "monthly_sales.head()"
   ]
  },
  {
   "cell_type": "code",
   "execution_count": 4,
   "metadata": {},
   "outputs": [
    {
     "name": "stderr",
     "output_type": "stream",
     "text": [
      "12:25:55 - cmdstanpy - INFO - Chain [1] start processing\n",
      "12:25:56 - cmdstanpy - INFO - Chain [1] done processing\n"
     ]
    },
    {
     "data": {
      "text/html": [
       "<div>\n",
       "<style scoped>\n",
       "    .dataframe tbody tr th:only-of-type {\n",
       "        vertical-align: middle;\n",
       "    }\n",
       "\n",
       "    .dataframe tbody tr th {\n",
       "        vertical-align: top;\n",
       "    }\n",
       "\n",
       "    .dataframe thead th {\n",
       "        text-align: right;\n",
       "    }\n",
       "</style>\n",
       "<table border=\"1\" class=\"dataframe\">\n",
       "  <thead>\n",
       "    <tr style=\"text-align: right;\">\n",
       "      <th></th>\n",
       "      <th>ds</th>\n",
       "      <th>yhat</th>\n",
       "    </tr>\n",
       "  </thead>\n",
       "  <tbody>\n",
       "    <tr>\n",
       "      <th>12</th>\n",
       "      <td>2023-11-30</td>\n",
       "      <td>63.926824</td>\n",
       "    </tr>\n",
       "  </tbody>\n",
       "</table>\n",
       "</div>"
      ],
      "text/plain": [
       "           ds       yhat\n",
       "12 2023-11-30  63.926824"
      ]
     },
     "execution_count": 4,
     "metadata": {},
     "output_type": "execute_result"
    }
   ],
   "source": [
    "from prophet import Prophet\n",
    "\n",
    "# Örnek: Belirli bir ürün seçelim\n",
    "product = 'WHITE METAL LANTERN'\n",
    "product_sales = monthly_sales[monthly_sales['Description'] == product]\n",
    "\n",
    "# Prophet formatına getir\n",
    "df_prophet = product_sales.rename(columns={'YearMonth': 'ds', 'Quantity': 'y'})\n",
    "df_prophet['ds'] = pd.to_datetime(df_prophet['ds'])\n",
    "\n",
    "# Modeli eğit\n",
    "model = Prophet()\n",
    "model.fit(df_prophet)\n",
    "\n",
    "# Gelecek 1 ayı tahmin et\n",
    "future = model.make_future_dataframe(periods=1, freq='M')\n",
    "forecast = model.predict(future)\n",
    "\n",
    "# Sadece tahmin edilen son ayı görelim\n",
    "forecast[['ds', 'yhat']].tail(1)\n"
   ]
  },
  {
   "cell_type": "code",
   "execution_count": null,
   "metadata": {},
   "outputs": [],
   "source": []
  }
 ],
 "metadata": {
  "kernelspec": {
   "display_name": "base",
   "language": "python",
   "name": "python3"
  },
  "language_info": {
   "codemirror_mode": {
    "name": "ipython",
    "version": 3
   },
   "file_extension": ".py",
   "mimetype": "text/x-python",
   "name": "python",
   "nbconvert_exporter": "python",
   "pygments_lexer": "ipython3",
   "version": "3.11.7"
  }
 },
 "nbformat": 4,
 "nbformat_minor": 2
}
